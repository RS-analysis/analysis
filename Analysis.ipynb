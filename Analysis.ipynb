{
 "cells": [
  {
   "cell_type": "markdown",
   "metadata": {},
   "source": [
    "# Analysis of experimental results "
   ]
  },
  {
   "cell_type": "code",
   "execution_count": 1,
   "metadata": {
    "collapsed": true
   },
   "outputs": [],
   "source": [
    "from pymongo import MongoClient\n",
    "from bson.objectid import ObjectId\n",
    "import matplotlib, math\n",
    "import matplotlib.pyplot as plt\n",
    "import numpy as np\n",
    "import seaborn as sns\n",
    "import pandas as pd\n",
    "from itertools import groupby\n",
    "from operator import itemgetter\n",
    "from tabulate import tabulate\n",
    "import functools"
   ]
  },
  {
   "cell_type": "markdown",
   "metadata": {},
   "source": [
    "### Connecting to local mongo database"
   ]
  },
  {
   "cell_type": "code",
   "execution_count": 2,
   "metadata": {
    "collapsed": true
   },
   "outputs": [],
   "source": [
    "host = 'localhost'\n",
    "port = 27017\n",
    "username = ''\n",
    "password = ''\n",
    "database = 'tcc-recsys-mongo'\n",
    "\n",
    "client = MongoClient(host, port)\n",
    "db = client[database]"
   ]
  },
  {
   "cell_type": "markdown",
   "metadata": {},
   "source": [
    "### Looking at quantity of crawled products by category"
   ]
  },
  {
   "cell_type": "code",
   "execution_count": 3,
   "metadata": {},
   "outputs": [
    {
     "name": "stdout",
     "output_type": "stream",
     "text": [
      "The number of movies is 2637.\n",
      "The number of games is 667.\n",
      "The number of books is 9168.\n",
      "The number of musics is 298.\n"
     ]
    }
   ],
   "source": [
    "movies = 0\n",
    "games = 0\n",
    "books = 0\n",
    "musics = 0\n",
    "for prod in db.produto_novo.find({\"categorias\":{\"$exists\":True}}):\n",
    "    if prod['categorias'][1] == u'Filmes':\n",
    "        movies = movies + 1\n",
    "    elif prod['categorias'][1] == u'Games':\n",
    "        games = games + 1\n",
    "    elif prod['categorias'][1] == u'Livros':\n",
    "        books = books + 1\n",
    "    else:\n",
    "        musics = musics + 1\n",
    "print(\"The number of movies is {}.\".format(movies))\n",
    "print(\"The number of games is {}.\".format(games))\n",
    "print(\"The number of books is {}.\".format(books))\n",
    "print(\"The number of musics is {}.\".format(musics))"
   ]
  },
  {
   "cell_type": "markdown",
   "metadata": {},
   "source": [
    "### Taking the biggest similarity of the recommendations made"
   ]
  },
  {
   "cell_type": "code",
   "execution_count": 4,
   "metadata": {},
   "outputs": [
    {
     "name": "stdout",
     "output_type": "stream",
     "text": [
      "0.7064693507478099\n"
     ]
    }
   ],
   "source": [
    "biggest_similarity = 0.0\n",
    "for user in db.users.find({\"avaliacoes\":{\"$exists\":True}}):\n",
    "    for avaliacao in user['avaliacoes']:\n",
    "        if float(avaliacao['similaridade']) > biggest_similarity:\n",
    "            biggest_similarity = float(avaliacao['similaridade'])\n",
    "print(float(biggest_similarity))"
   ]
  },
  {
   "cell_type": "markdown",
   "metadata": {},
   "source": [
    "### Calculating the RMSE of the recommendations"
   ]
  },
  {
   "cell_type": "code",
   "execution_count": 5,
   "metadata": {},
   "outputs": [
    {
     "name": "stdout",
     "output_type": "stream",
     "text": [
      "The RMSE is 1.222.\n"
     ]
    }
   ],
   "source": [
    "num_avaliacoes_total = 0\n",
    "soma_total = 0\n",
    "recs = []\n",
    "for user in db.users.find({\"avaliacoes\":{\"$exists\":True}}):\n",
    "    maior_similaridade_usuario = 0\n",
    "    for avaliacao in user['avaliacoes']:\n",
    "        if float(avaliacao['similaridade']) > maior_similaridade_usuario:\n",
    "            maior_similaridade_usuario = float(avaliacao['similaridade'])\n",
    "            \n",
    "    soma_usuario = 0\n",
    "    for avaliacao in user['avaliacoes']:\n",
    "        prod = db.produto_novo.find_one({'_id': ObjectId(avaliacao['idprod'])})\n",
    "        nota_sistema = int(float(avaliacao['similaridade'])/float(maior_similaridade_usuario)*4) +1\n",
    "        \n",
    "        for recomendacao in user['recomendacoes']:\n",
    "            for product_rec in recomendacao['products']:\n",
    "                if product_rec['idprod'] == avaliacao['idprod']:\n",
    "                    produto_recomendacao = product_rec['nome']\n",
    "                    post_recomendacao =  recomendacao['post']\n",
    "                    \n",
    "        recs.append([float(avaliacao['similaridade']), prod['nome'], avaliacao['nota'], nota_sistema, produto_recomendacao, post_recomendacao])\n",
    "        dif_2 = math.sqrt(pow((int(avaliacao['nota'])-nota_sistema), 2))\n",
    "        soma_usuario = soma_usuario + dif_2\n",
    "        \n",
    "        num_avaliacoes_total = num_avaliacoes_total + 1\n",
    "        \n",
    "    soma_total = soma_total + soma_usuario\n",
    "    \n",
    "rmse = round(math.sqrt(float(1)/num_avaliacoes_total*soma_total), 3)\n",
    "print(\"The RMSE is {}.\".format(rmse))"
   ]
  },
  {
   "cell_type": "markdown",
   "metadata": {},
   "source": [
    "### Similarity ranges"
   ]
  },
  {
   "cell_type": "code",
   "execution_count": 6,
   "metadata": {},
   "outputs": [
    {
     "name": "stdout",
     "output_type": "stream",
     "text": [
      "Quantity of recommendations by similarity range.\n",
      "----  ---  ---------\n",
      "0     496  85.3701\n",
      "0.01   81  13.9415\n",
      "0.02    2   0.344234\n",
      "0.03    1   0.172117\n",
      "0.07    1   0.172117\n",
      "----  ---  ---------\n"
     ]
    }
   ],
   "source": [
    "def reduce_value(obj1, obj2):\n",
    "    return (obj1[0], obj1[1]+obj2[1])\n",
    "\n",
    "sim_grouped = [functools.reduce(reduce_value, group) for _, group in groupby(sorted(map(lambda x: (round(x[0],2), 1), recs)), key=itemgetter(0))]\n",
    "\n",
    "print(\"Quantity of recommendations by similarity range.\")\n",
    "print(tabulate(map(lambda x: (x[0], x[1], x[1]/float(len(recs))*100), sim_grouped)))"
   ]
  },
  {
   "cell_type": "code",
   "execution_count": 7,
   "metadata": {},
   "outputs": [
    {
     "name": "stdout",
     "output_type": "stream",
     "text": [
      "Number of recommendations: 581.\n",
      "Quantity of recommendation by difference of system and user rates.\n",
      "-  ---  ----------  --------\n",
      "0  101  0.00317949  17.3838\n",
      "1  223  0.00237835  38.3821\n",
      "2  159  0.00280383  27.3666\n",
      "3   66  0.00335708  11.3597\n",
      "4   32  0.00781338   5.50775\n",
      "-  ---  ----------  --------\n",
      "Number of user rates by rate\n",
      "-  ---  ----------  --------\n",
      "1  243  0.00334754  41.8244\n",
      "2   57  0.00240073   9.81067\n",
      "3  130  0.00257628  22.3752\n",
      "4   63  0.00306005  10.8434\n",
      "5   88  0.00330579  15.1463\n",
      "-  ---  ----------  --------\n",
      "Number of system rates by rate\n",
      "-  ---  ----------  --------\n",
      "1   57  0.00375235   9.81067\n",
      "2  245  0.00215274  42.1687\n",
      "3  168  0.00266411  28.9157\n",
      "4   46  0.00368126   7.91738\n",
      "5   65  0.0063183   11.1876\n",
      "-  ---  ----------  --------\n"
     ]
    }
   ],
   "source": [
    "def reduce_value(obj1, obj2):\n",
    "    return (obj1[0], obj1[1]+obj2[1], obj1[2]+obj2[2])\n",
    "\n",
    "dif_grouped = [functools.reduce(reduce_value, group) for _, group in groupby(sorted(map(lambda x: (abs(int(x[2])-int(x[3])), x[0], 1), recs)), key=itemgetter(0))]\n",
    "not_usr_grouped = [functools.reduce(reduce_value, group) for _, group in groupby(sorted(map(lambda x: (x[2], x[0], 1), recs)), key=itemgetter(0))]\n",
    "not_sys_grouped = [functools.reduce(reduce_value, group) for _, group in groupby(sorted(map(lambda x: (x[3], x[0], 1), recs)), key=itemgetter(0))]\n",
    "print(\"Number of recommendations: {}.\".format(len(recs)))\n",
    "print(\"Quantity of recommendation by difference of system and user rates.\")\n",
    "print(tabulate(map(lambda x: (x[0], x[2], x[1]/x[2], float(x[2])/float(len(recs))*100), dif_grouped)))\n",
    "print(\"Number of user rates by rate\")\n",
    "print(tabulate(map(lambda x: (x[0], x[2], x[1]/x[2], float(x[2])/float(len(recs))*100), not_usr_grouped)))\n",
    "print(\"Number of system rates by rate\")\n",
    "print(tabulate(map(lambda x: (x[0], x[2], x[1]/x[2], float(x[2])/float(len(recs))*100), not_sys_grouped)))\n"
   ]
  },
  {
   "cell_type": "code",
   "execution_count": 8,
   "metadata": {},
   "outputs": [
    {
     "data": {
      "image/png": "[encoded data removed]",
      "text/plain": [
       "<matplotlib.figure.Figure at 0x7fe3668584a8>"
      ]
     },
     "metadata": {},
     "output_type": "display_data"
    }
   ],
   "source": [
    "sns.set_style(\"darkgrid\")\n",
    "plt.plot(list(map(lambda x: x[0], sim_grouped)), list(map(lambda x: x[1], sim_grouped)))\n",
    "plt.ylabel('Number of recommendations', fontsize=12)\n",
    "plt.xlabel('Similarity', fontsize=12)\n",
    "plt.title('Number of recommendations by similarity range', fontsize=16)\n",
    "plt.show()"
   ]
  },
  {
   "cell_type": "code",
   "execution_count": 9,
   "metadata": {},
   "outputs": [
    {
     "data": {
      "image/png": "[encoded data removed]",
      "text/plain": [
       "<matplotlib.figure.Figure at 0x7fe36c311dd8>"
      ]
     },
     "metadata": {},
     "output_type": "display_data"
    }
   ],
   "source": [
    "def make_autopct(values):\n",
    "    def my_autopct(pct):\n",
    "        total = sum(values)\n",
    "        val = int(round(pct*total/100.0))\n",
    "        return '{p:.1f}%  ({v:d})'.format(p=pct,v=val)\n",
    "    return my_autopct\n",
    "colors = [\"#8f7ba9\", \"#30bcff\"]\n",
    "\n",
    "# Create a pie chart\n",
    "plt.pie(\n",
    "    # using data total)arrests\n",
    "    [103, 223+159+66+32],\n",
    "    # with the labels being, officer names\n",
    "    labels=[\"Same\", \"Do not the same\"],\n",
    "    # with no shadows\n",
    "    shadow=False,\n",
    "    # with colors\n",
    "    colors=colors,\n",
    "    # with one slide exploded out\n",
    "    explode=(0, 0.15),\n",
    "    # with the start angle at 90%\n",
    "    startangle=90,\n",
    "    # with the percent listed as a fraction\n",
    "    autopct=make_autopct([223+159+66+32]),\n",
    "    )\n",
    "\n",
    "# View the plot drop above\n",
    "plt.axis('equal')\n",
    "plt.title('Correpondece between system and users rates', fontsize=12)\n",
    "# View the plot\n",
    "plt.tight_layout()\n",
    "plt.show()"
   ]
  },
  {
   "cell_type": "markdown",
   "metadata": {},
   "source": []
  }
 ],
 "metadata": {
  "kernelspec": {
   "display_name": "Python 3",
   "language": "python",
   "name": "python3"
  },
  "language_info": {
   "codemirror_mode": {
    "name": "ipython",
    "version": 3
   },
   "file_extension": ".py",
   "mimetype": "text/x-python",
   "name": "python",
   "nbconvert_exporter": "python",
   "pygments_lexer": "ipython3",
   "version": "3.6.1"
  }
 },
 "nbformat": 4,
 "nbformat_minor": 2
}
